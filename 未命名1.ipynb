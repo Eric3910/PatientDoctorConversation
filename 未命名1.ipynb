{
 "cells": [
  {
   "cell_type": "code",
   "execution_count": 5,
   "metadata": {},
   "outputs": [
    {
     "name": "stdout",
     "output_type": "stream",
     "text": [
      "param:{\"aue\":\"raw\",\"engine_type\":\"sms16k\"}\n",
      "x_param:eyJhdWUiOiJyYXciLCJlbmdpbmVfdHlwZSI6InNtczE2ayJ9\n",
      "checkSum:f6e7f6c7e4c7470deb01121a3f6e1b2e\n",
      "{'X-CurTime': '1552969516', 'X-Param': 'eyJhdWUiOiJyYXciLCJlbmdpbmVfdHlwZSI6InNtczE2ayJ9', 'X-Appid': '5c755331', 'X-CheckSum': 'f6e7f6c7e4c7470deb01121a3f6e1b2e', 'Content-Type': 'application/x-www-form-urlencoded; charset=utf-8'}\n",
      "type(data['audio']):<class 'bytes'>\n",
      "<html>\n",
      "<head><title>413 Request Entity Too Large</title></head>\n",
      "<body bgcolor=\"white\">\n",
      "<center><h1>413 Request Entity Too Large</h1></center>\n",
      "<hr><center>nginx</center>\n",
      "</body>\n",
      "</html>\n",
      "\n"
     ]
    }
   ],
   "source": [
    "# -*- coding: utf-8 -*-\n",
    "import requests\n",
    "import time\n",
    "import hashlib\n",
    "import base64\n",
    "\n",
    "URL = \"http://api.xfyun.cn/v1/service/v1/iat\"\n",
    "APPID = \"5c755331\"\n",
    "API_KEY = \"793f84511d10ef2731a526d6ba44b6ff\"\n",
    "\n",
    "\n",
    "def getHeader(aue, engineType):\n",
    "    curTime = str(int(time.time()))\n",
    "    # curTime = '1526542623'\n",
    "    param = \"{\\\"aue\\\":\\\"\" + aue + \"\\\"\" + \",\\\"engine_type\\\":\\\"\" + engineType + \"\\\"}\"\n",
    "    print(\"param:{}\".format(param))\n",
    "    paramBase64 = str(base64.b64encode(param.encode('utf-8')), 'utf-8')\n",
    "    print(\"x_param:{}\".format(paramBase64))\n",
    "\n",
    "    m2 = hashlib.md5()\n",
    "    m2.update((API_KEY + curTime + paramBase64).encode('utf-8'))\n",
    "    checkSum = m2.hexdigest()\n",
    "    print('checkSum:{}'.format(checkSum))\n",
    "    header = {\n",
    "        'X-CurTime': curTime,\n",
    "        'X-Param': paramBase64,\n",
    "        'X-Appid': APPID,\n",
    "        'X-CheckSum': checkSum,\n",
    "        'Content-Type': 'application/x-www-form-urlencoded; charset=utf-8',\n",
    "    }\n",
    "    print(header)\n",
    "    return header\n",
    "\n",
    "\n",
    "def getBody(filepath):\n",
    "    binfile = open(filepath, 'rb')\n",
    "    data = {'audio': base64.b64encode(binfile.read())}\n",
    "   # print(data)\n",
    "   # print('data:{}'.format(type(data['audio'])))\n",
    "    print(\"type(data['audio']):{}\".format(type(data['audio'])))\n",
    "    return data\n",
    "\n",
    "\n",
    "aue = \"raw\"\n",
    "engineType = \"sms16k\"\n",
    "audioFilePath = r\"realtest.wav\"\n",
    "\n",
    "r = requests.post(URL, headers=getHeader(aue, engineType), data=getBody(audioFilePath))\n",
    "print(r.content.decode('utf-8'))\n"
   ]
  },
  {
   "cell_type": "code",
   "execution_count": null,
   "metadata": {},
   "outputs": [],
   "source": []
  }
 ],
 "metadata": {
  "kernelspec": {
   "display_name": "Python 3",
   "language": "python",
   "name": "python3"
  },
  "language_info": {
   "codemirror_mode": {
    "name": "ipython",
    "version": 3
   },
   "file_extension": ".py",
   "mimetype": "text/x-python",
   "name": "python",
   "nbconvert_exporter": "python",
   "pygments_lexer": "ipython3",
   "version": "3.7.1"
  }
 },
 "nbformat": 4,
 "nbformat_minor": 2
}
