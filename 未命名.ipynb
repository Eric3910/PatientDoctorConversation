{
 "cells": [
  {
   "cell_type": "code",
   "execution_count": 8,
   "metadata": {},
   "outputs": [
    {
     "name": "stdout",
     "output_type": "stream",
     "text": [
      "checkSum:62b1ea999a0cbddbc21bc17df304a313\n",
      "data:<class 'bytes'>\n",
      "********************\n",
      "结果：<html>\n",
      "<head><title>413 Request Entity Too Large</title></head>\n",
      "<body bgcolor=\"white\">\n",
      "<center><h1>413 Request Entity Too Large</h1></center>\n",
      "<hr><center>nginx</center>\n",
      "</body>\n",
      "</html>\n",
      "\n"
     ]
    }
   ],
   "source": [
    "# -*- coding: utf-8 -*-\n",
    "import requests\n",
    "import time\n",
    "import hashlib\n",
    "import base64\n",
    "\n",
    "URL = \"http://api.xfyun.cn/v1/service/v1/iat\"\n",
    "APPID = \"5c8e030b\"\n",
    "API_KEY = \"25a7ad7de92bd29dd4d701d2d758975b\"\n",
    "\n",
    "#讯飞API信息\n",
    "URL = \"http://api.xfyun.cn/v1/service/v1/iat\"\n",
    "APPID = \"5c755331\"\n",
    "API_KEY = \"793f84511d10ef2731a526d6ba44b6ff\"\n",
    "API_KEY = \"3f0c8b721b39e71d0f92d5f4da7bdf34\"\n",
    "\n",
    "\n",
    "\n",
    "def getHeader(aue, engineType):\n",
    "    curTime = str(int(time.time()))\n",
    "    # curTime = '1526542623'\n",
    "    param = \"{\\\"aue\\\":\\\"\" + aue + \"\\\"\" + \",\\\"engine_type\\\":\\\"\" + engineType + \"\\\"}\"\n",
    "    #print(\"param:{}\".format(param))\n",
    "    #paramBase64 = str(base64.b64encode(json.dumps(param).replace(' ', '').encode('utf-8')))\n",
    "    paramBase64 = str(base64.b64encode(param.encode('utf-8')), 'utf-8')\n",
    "    #print(\"x_param:{}\".format(paramBase64))\n",
    "\n",
    "    m2 = hashlib.md5()\n",
    "    m2.update((API_KEY + curTime + paramBase64).encode('utf-8'))\n",
    "    checkSum = m2.hexdigest()\n",
    "    print('checkSum:{}'.format(checkSum))\n",
    "    header = {\n",
    "        'X-CurTime': curTime,\n",
    "        'X-Param': paramBase64,\n",
    "        'X-Appid': APPID,\n",
    "        'X-CheckSum': checkSum,\n",
    "        'Content-Type': 'application/x-www-form-urlencoded; charset=utf-8'\n",
    "    }\n",
    "    #print(header)\n",
    "    return header\n",
    "\n",
    "\n",
    "def getBody(filepath):\n",
    "    binfile = open(filepath, 'rb')\n",
    "    data = {'audio': base64.b64encode(binfile.read())}\n",
    "    #print(data)\n",
    "    print('data:{}'.format(type(data['audio'])))\n",
    "    #print(\"type(data['audio']):{}\".format(type(data['audio'])))\n",
    "    return data\n",
    "\n",
    "def main():\n",
    "    aue = \"raw\"\n",
    "    engineType = \"sms16k\"\n",
    "    audioFilePath = r\"test3.wav\"\n",
    "\n",
    "    result = requests.post(URL, headers=getHeader(aue, engineType), data=getBody(audioFilePath))\n",
    "    print(\"********************\")\n",
    "    print(\"结果：\"+ result.content.decode('utf-8'))\n",
    "\n",
    "\n",
    "\n",
    "\n",
    "if __name__ == '__main__':\n",
    "    main()"
   ]
  },
  {
   "cell_type": "code",
   "execution_count": null,
   "metadata": {},
   "outputs": [],
   "source": []
  },
  {
   "cell_type": "code",
   "execution_count": null,
   "metadata": {},
   "outputs": [],
   "source": []
  }
 ],
 "metadata": {
  "kernelspec": {
   "display_name": "Python 3",
   "language": "python",
   "name": "python3"
  },
  "language_info": {
   "codemirror_mode": {
    "name": "ipython",
    "version": 3
   },
   "file_extension": ".py",
   "mimetype": "text/x-python",
   "name": "python",
   "nbconvert_exporter": "python",
   "pygments_lexer": "ipython3",
   "version": "3.7.1"
  }
 },
 "nbformat": 4,
 "nbformat_minor": 2
}
