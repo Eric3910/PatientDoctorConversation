{
 "cells": [
  {
   "cell_type": "code",
   "execution_count": null,
   "metadata": {},
   "outputs": [],
   "source": [
    "# 转换音频格式从MP3到wav\n",
    "\n",
    "import ffmpeg\n",
    "import pydub\n",
    "source_file_path = r\"realtest.mp3\"\n",
    "destin_path = r\"realtest.wav\"\n",
    "sound = pydub.AudioSegment.from_mp3(source_file_path)\n",
    "sound.export(destin_path,format='wav')"
   ]
  },
  {
   "cell_type": "code",
   "execution_count": null,
   "metadata": {},
   "outputs": [],
   "source": [
    "# -*- coding: utf-8 -*-\n",
    "# 讯飞语音转文字API调用\n",
    "import requests\n",
    "import time\n",
    "import hashlib\n",
    "import base64\n",
    "\n",
    "#讯飞API信息\n",
    "URL = \"http://api.xfyun.cn/v1/service/v1/iat\"\n",
    "APPID = \"5c755331\"\n",
    "API_KEY = \"793f84511d10ef2731a526d6ba44b6ff\"\n",
    "\n",
    "\n",
    "def getHeader(aue, engineType):\n",
    "    curTime = str(int(time.time()))\n",
    "    # curTime = '1526542623'\n",
    "    param = \"{\\\"aue\\\":\\\"\" + aue + \"\\\"\" + \",\\\"engine_type\\\":\\\"\" + engineType + \"\\\"}\"\n",
    "#    print(\"param:{}\".format(param))\n",
    "    paramBase64 = str(base64.b64encode(param.encode('utf-8')), 'utf-8')\n",
    "#    print(\"x_param:{}\".format(paramBase64))\n",
    "\n",
    "    m2 = hashlib.md5()\n",
    "    m2.update((API_KEY + curTime + paramBase64).encode('utf-8'))\n",
    "    checkSum = m2.hexdigest()\n",
    "#    print('checkSum:{}'.format(checkSum))\n",
    "    header = {\n",
    "        'X-CurTime': curTime,\n",
    "        'X-Param': paramBase64,\n",
    "        'X-Appid': APPID,\n",
    "        'X-CheckSum': checkSum,\n",
    "        'Content-Type': 'application/x-www-form-urlencoded; charset=utf-8',\n",
    "    }\n",
    "#    print(header)\n",
    "    return header\n",
    "\n",
    "\n",
    "def getBody(filepath):\n",
    "    binfile = open(filepath, 'rb')\n",
    "    data = {'audio': base64.b64encode(binfile.read())}\n",
    "    #print(data)\n",
    "    #print('data:{}'.format(type(data['audio'])))\n",
    "    # print(\"type(data['audio']):{}\".format(type(data['audio'])))\n",
    "    return data\n",
    "\n",
    "#参数指定\n",
    "aue = \"raw\"\n",
    "engineType = \"sms16k\"\n",
    "audioFilePath = r\"realtest.wav\"\n",
    "\n",
    "\n",
    "r = requests.post(URL, headers=getHeader(aue, engineType), data=getBody(audioFilePath))\n",
    "print(r.content.decode('utf-8'))\n",
    "raw_content = r.content.decode('utf-8')\n"
   ]
  },
  {
   "cell_type": "code",
   "execution_count": null,
   "metadata": {},
   "outputs": [],
   "source": [
    "#将返回的json文件转化为list\n",
    "import json\n",
    "content=json.loads(raw_content)\n",
    "type(content)\n",
    "text=content['data']"
   ]
  },
  {
   "cell_type": "code",
   "execution_count": null,
   "metadata": {},
   "outputs": [],
   "source": [
    "#通过jieba对识别结果进行分词\n",
    "import jieba\n",
    "seg_list = jieba.cut(text,cut_all = False)\n",
    "#for word in seg_list:\n",
    "#    print(word)\n",
    "print(\"/\".join(seg_list))"
   ]
  },
  {
   "cell_type": "code",
   "execution_count": null,
   "metadata": {},
   "outputs": [],
   "source": []
  }
 ],
 "metadata": {
  "kernelspec": {
   "display_name": "Python 3",
   "language": "python",
   "name": "python3"
  },
  "language_info": {
   "codemirror_mode": {
    "name": "ipython",
    "version": 3
   },
   "file_extension": ".py",
   "mimetype": "text/x-python",
   "name": "python",
   "nbconvert_exporter": "python",
   "pygments_lexer": "ipython3",
   "version": "3.7.1"
  }
 },
 "nbformat": 4,
 "nbformat_minor": 2
}
